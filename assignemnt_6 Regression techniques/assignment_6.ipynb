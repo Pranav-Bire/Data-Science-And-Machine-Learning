{
  "nbformat": 4,
  "nbformat_minor": 0,
  "metadata": {
    "colab": {
      "provenance": []
    },
    "kernelspec": {
      "name": "python3",
      "display_name": "Python 3"
    },
    "language_info": {
      "name": "python"
    }
  },
  "cells": [
    {
      "cell_type": "markdown",
      "source": [
        "6. Assignment on Regression technique.\n",
        "Download temperature data from the link below.\n",
        "https://www.kaggle.com/venky73/temperaturesof-india?select=temperatures.csv\n",
        "This data consists of temperatures of INDIA averaging the temperatures of all places month\n",
        "wise. Temperatures values are recorded in CELSIUS\n",
        "\n",
        "a) Apply Linear Regression using a suitable library function and predict the Month-wise\n",
        "temperature.\n",
        "\n",
        "b) Assess the performance of regression models using MSE, MAE and R-Square metrics\n",
        "\n",
        "c) Visualize a simple regression model."
      ],
      "metadata": {
        "id": "fSYSmh1JqsOU"
      }
    },
    {
      "cell_type": "code",
      "execution_count": null,
      "metadata": {
        "id": "1663DD7mmTTV"
      },
      "outputs": [],
      "source": [
        "import numpy as np\n",
        "import pandas as pd\n",
        "import matplotlib.pyplot as plt\n",
        "import seaborn as sns\n",
        "from sklearn.linear_model import LinearRegression\n",
        "from sklearn.model_selection import train_test_split\n",
        "from sklearn import metrics"
      ]
    },
    {
      "cell_type": "code",
      "source": [
        "temp=pd.read_csv('/content/temperatures.csv')"
      ],
      "metadata": {
        "id": "5wkax6Bkno_-"
      },
      "execution_count": null,
      "outputs": []
    },
    {
      "cell_type": "code",
      "source": [
        "temp.head()"
      ],
      "metadata": {
        "colab": {
          "base_uri": "https://localhost:8080/",
          "height": 243
        },
        "id": "y50s0YXRn74x",
        "outputId": "2b080f83-3e8f-4012-fac8-bed0d80f3ae5"
      },
      "execution_count": null,
      "outputs": [
        {
          "output_type": "execute_result",
          "data": {
            "text/plain": [
              "   YEAR    JAN    FEB    MAR    APR    MAY    JUN    JUL    AUG    SEP    OCT  \\\n",
              "0  1901  22.40  24.14  29.07  31.91  33.41  33.18  31.21  30.39  30.47  29.97   \n",
              "1  1902  24.93  26.58  29.77  31.78  33.73  32.91  30.92  30.73  29.80  29.12   \n",
              "2  1903  23.44  25.03  27.83  31.39  32.91  33.00  31.34  29.98  29.85  29.04   \n",
              "3  1904  22.50  24.73  28.21  32.02  32.64  32.07  30.36  30.09  30.04  29.20   \n",
              "4  1905  22.00  22.83  26.68  30.01  33.32  33.25  31.44  30.68  30.12  30.67   \n",
              "\n",
              "     NOV    DEC  ANNUAL  JAN-FEB  MAR-MAY  JUN-SEP  OCT-DEC  \n",
              "0  27.31  24.49   28.96    23.27    31.46    31.27    27.25  \n",
              "1  26.31  24.04   29.22    25.75    31.76    31.09    26.49  \n",
              "2  26.08  23.65   28.47    24.24    30.71    30.92    26.26  \n",
              "3  26.36  23.63   28.49    23.62    30.95    30.66    26.40  \n",
              "4  27.52  23.82   28.30    22.25    30.00    31.33    26.57  "
            ],
            "text/html": [
              "\n",
              "  <div id=\"df-48876556-6368-45c3-8d15-a6a35684421e\" class=\"colab-df-container\">\n",
              "    <div>\n",
              "<style scoped>\n",
              "    .dataframe tbody tr th:only-of-type {\n",
              "        vertical-align: middle;\n",
              "    }\n",
              "\n",
              "    .dataframe tbody tr th {\n",
              "        vertical-align: top;\n",
              "    }\n",
              "\n",
              "    .dataframe thead th {\n",
              "        text-align: right;\n",
              "    }\n",
              "</style>\n",
              "<table border=\"1\" class=\"dataframe\">\n",
              "  <thead>\n",
              "    <tr style=\"text-align: right;\">\n",
              "      <th></th>\n",
              "      <th>YEAR</th>\n",
              "      <th>JAN</th>\n",
              "      <th>FEB</th>\n",
              "      <th>MAR</th>\n",
              "      <th>APR</th>\n",
              "      <th>MAY</th>\n",
              "      <th>JUN</th>\n",
              "      <th>JUL</th>\n",
              "      <th>AUG</th>\n",
              "      <th>SEP</th>\n",
              "      <th>OCT</th>\n",
              "      <th>NOV</th>\n",
              "      <th>DEC</th>\n",
              "      <th>ANNUAL</th>\n",
              "      <th>JAN-FEB</th>\n",
              "      <th>MAR-MAY</th>\n",
              "      <th>JUN-SEP</th>\n",
              "      <th>OCT-DEC</th>\n",
              "    </tr>\n",
              "  </thead>\n",
              "  <tbody>\n",
              "    <tr>\n",
              "      <th>0</th>\n",
              "      <td>1901</td>\n",
              "      <td>22.40</td>\n",
              "      <td>24.14</td>\n",
              "      <td>29.07</td>\n",
              "      <td>31.91</td>\n",
              "      <td>33.41</td>\n",
              "      <td>33.18</td>\n",
              "      <td>31.21</td>\n",
              "      <td>30.39</td>\n",
              "      <td>30.47</td>\n",
              "      <td>29.97</td>\n",
              "      <td>27.31</td>\n",
              "      <td>24.49</td>\n",
              "      <td>28.96</td>\n",
              "      <td>23.27</td>\n",
              "      <td>31.46</td>\n",
              "      <td>31.27</td>\n",
              "      <td>27.25</td>\n",
              "    </tr>\n",
              "    <tr>\n",
              "      <th>1</th>\n",
              "      <td>1902</td>\n",
              "      <td>24.93</td>\n",
              "      <td>26.58</td>\n",
              "      <td>29.77</td>\n",
              "      <td>31.78</td>\n",
              "      <td>33.73</td>\n",
              "      <td>32.91</td>\n",
              "      <td>30.92</td>\n",
              "      <td>30.73</td>\n",
              "      <td>29.80</td>\n",
              "      <td>29.12</td>\n",
              "      <td>26.31</td>\n",
              "      <td>24.04</td>\n",
              "      <td>29.22</td>\n",
              "      <td>25.75</td>\n",
              "      <td>31.76</td>\n",
              "      <td>31.09</td>\n",
              "      <td>26.49</td>\n",
              "    </tr>\n",
              "    <tr>\n",
              "      <th>2</th>\n",
              "      <td>1903</td>\n",
              "      <td>23.44</td>\n",
              "      <td>25.03</td>\n",
              "      <td>27.83</td>\n",
              "      <td>31.39</td>\n",
              "      <td>32.91</td>\n",
              "      <td>33.00</td>\n",
              "      <td>31.34</td>\n",
              "      <td>29.98</td>\n",
              "      <td>29.85</td>\n",
              "      <td>29.04</td>\n",
              "      <td>26.08</td>\n",
              "      <td>23.65</td>\n",
              "      <td>28.47</td>\n",
              "      <td>24.24</td>\n",
              "      <td>30.71</td>\n",
              "      <td>30.92</td>\n",
              "      <td>26.26</td>\n",
              "    </tr>\n",
              "    <tr>\n",
              "      <th>3</th>\n",
              "      <td>1904</td>\n",
              "      <td>22.50</td>\n",
              "      <td>24.73</td>\n",
              "      <td>28.21</td>\n",
              "      <td>32.02</td>\n",
              "      <td>32.64</td>\n",
              "      <td>32.07</td>\n",
              "      <td>30.36</td>\n",
              "      <td>30.09</td>\n",
              "      <td>30.04</td>\n",
              "      <td>29.20</td>\n",
              "      <td>26.36</td>\n",
              "      <td>23.63</td>\n",
              "      <td>28.49</td>\n",
              "      <td>23.62</td>\n",
              "      <td>30.95</td>\n",
              "      <td>30.66</td>\n",
              "      <td>26.40</td>\n",
              "    </tr>\n",
              "    <tr>\n",
              "      <th>4</th>\n",
              "      <td>1905</td>\n",
              "      <td>22.00</td>\n",
              "      <td>22.83</td>\n",
              "      <td>26.68</td>\n",
              "      <td>30.01</td>\n",
              "      <td>33.32</td>\n",
              "      <td>33.25</td>\n",
              "      <td>31.44</td>\n",
              "      <td>30.68</td>\n",
              "      <td>30.12</td>\n",
              "      <td>30.67</td>\n",
              "      <td>27.52</td>\n",
              "      <td>23.82</td>\n",
              "      <td>28.30</td>\n",
              "      <td>22.25</td>\n",
              "      <td>30.00</td>\n",
              "      <td>31.33</td>\n",
              "      <td>26.57</td>\n",
              "    </tr>\n",
              "  </tbody>\n",
              "</table>\n",
              "</div>\n",
              "    <div class=\"colab-df-buttons\">\n",
              "\n",
              "  <div class=\"colab-df-container\">\n",
              "    <button class=\"colab-df-convert\" onclick=\"convertToInteractive('df-48876556-6368-45c3-8d15-a6a35684421e')\"\n",
              "            title=\"Convert this dataframe to an interactive table.\"\n",
              "            style=\"display:none;\">\n",
              "\n",
              "  <svg xmlns=\"http://www.w3.org/2000/svg\" height=\"24px\" viewBox=\"0 -960 960 960\">\n",
              "    <path d=\"M120-120v-720h720v720H120Zm60-500h600v-160H180v160Zm220 220h160v-160H400v160Zm0 220h160v-160H400v160ZM180-400h160v-160H180v160Zm440 0h160v-160H620v160ZM180-180h160v-160H180v160Zm440 0h160v-160H620v160Z\"/>\n",
              "  </svg>\n",
              "    </button>\n",
              "\n",
              "  <style>\n",
              "    .colab-df-container {\n",
              "      display:flex;\n",
              "      gap: 12px;\n",
              "    }\n",
              "\n",
              "    .colab-df-convert {\n",
              "      background-color: #E8F0FE;\n",
              "      border: none;\n",
              "      border-radius: 50%;\n",
              "      cursor: pointer;\n",
              "      display: none;\n",
              "      fill: #1967D2;\n",
              "      height: 32px;\n",
              "      padding: 0 0 0 0;\n",
              "      width: 32px;\n",
              "    }\n",
              "\n",
              "    .colab-df-convert:hover {\n",
              "      background-color: #E2EBFA;\n",
              "      box-shadow: 0px 1px 2px rgba(60, 64, 67, 0.3), 0px 1px 3px 1px rgba(60, 64, 67, 0.15);\n",
              "      fill: #174EA6;\n",
              "    }\n",
              "\n",
              "    .colab-df-buttons div {\n",
              "      margin-bottom: 4px;\n",
              "    }\n",
              "\n",
              "    [theme=dark] .colab-df-convert {\n",
              "      background-color: #3B4455;\n",
              "      fill: #D2E3FC;\n",
              "    }\n",
              "\n",
              "    [theme=dark] .colab-df-convert:hover {\n",
              "      background-color: #434B5C;\n",
              "      box-shadow: 0px 1px 3px 1px rgba(0, 0, 0, 0.15);\n",
              "      filter: drop-shadow(0px 1px 2px rgba(0, 0, 0, 0.3));\n",
              "      fill: #FFFFFF;\n",
              "    }\n",
              "  </style>\n",
              "\n",
              "    <script>\n",
              "      const buttonEl =\n",
              "        document.querySelector('#df-48876556-6368-45c3-8d15-a6a35684421e button.colab-df-convert');\n",
              "      buttonEl.style.display =\n",
              "        google.colab.kernel.accessAllowed ? 'block' : 'none';\n",
              "\n",
              "      async function convertToInteractive(key) {\n",
              "        const element = document.querySelector('#df-48876556-6368-45c3-8d15-a6a35684421e');\n",
              "        const dataTable =\n",
              "          await google.colab.kernel.invokeFunction('convertToInteractive',\n",
              "                                                    [key], {});\n",
              "        if (!dataTable) return;\n",
              "\n",
              "        const docLinkHtml = 'Like what you see? Visit the ' +\n",
              "          '<a target=\"_blank\" href=https://colab.research.google.com/notebooks/data_table.ipynb>data table notebook</a>'\n",
              "          + ' to learn more about interactive tables.';\n",
              "        element.innerHTML = '';\n",
              "        dataTable['output_type'] = 'display_data';\n",
              "        await google.colab.output.renderOutput(dataTable, element);\n",
              "        const docLink = document.createElement('div');\n",
              "        docLink.innerHTML = docLinkHtml;\n",
              "        element.appendChild(docLink);\n",
              "      }\n",
              "    </script>\n",
              "  </div>\n",
              "\n",
              "\n",
              "<div id=\"df-6fdceeeb-f852-4968-a639-a5029c0a328e\">\n",
              "  <button class=\"colab-df-quickchart\" onclick=\"quickchart('df-6fdceeeb-f852-4968-a639-a5029c0a328e')\"\n",
              "            title=\"Suggest charts\"\n",
              "            style=\"display:none;\">\n",
              "\n",
              "<svg xmlns=\"http://www.w3.org/2000/svg\" height=\"24px\"viewBox=\"0 0 24 24\"\n",
              "     width=\"24px\">\n",
              "    <g>\n",
              "        <path d=\"M19 3H5c-1.1 0-2 .9-2 2v14c0 1.1.9 2 2 2h14c1.1 0 2-.9 2-2V5c0-1.1-.9-2-2-2zM9 17H7v-7h2v7zm4 0h-2V7h2v10zm4 0h-2v-4h2v4z\"/>\n",
              "    </g>\n",
              "</svg>\n",
              "  </button>\n",
              "\n",
              "<style>\n",
              "  .colab-df-quickchart {\n",
              "      --bg-color: #E8F0FE;\n",
              "      --fill-color: #1967D2;\n",
              "      --hover-bg-color: #E2EBFA;\n",
              "      --hover-fill-color: #174EA6;\n",
              "      --disabled-fill-color: #AAA;\n",
              "      --disabled-bg-color: #DDD;\n",
              "  }\n",
              "\n",
              "  [theme=dark] .colab-df-quickchart {\n",
              "      --bg-color: #3B4455;\n",
              "      --fill-color: #D2E3FC;\n",
              "      --hover-bg-color: #434B5C;\n",
              "      --hover-fill-color: #FFFFFF;\n",
              "      --disabled-bg-color: #3B4455;\n",
              "      --disabled-fill-color: #666;\n",
              "  }\n",
              "\n",
              "  .colab-df-quickchart {\n",
              "    background-color: var(--bg-color);\n",
              "    border: none;\n",
              "    border-radius: 50%;\n",
              "    cursor: pointer;\n",
              "    display: none;\n",
              "    fill: var(--fill-color);\n",
              "    height: 32px;\n",
              "    padding: 0;\n",
              "    width: 32px;\n",
              "  }\n",
              "\n",
              "  .colab-df-quickchart:hover {\n",
              "    background-color: var(--hover-bg-color);\n",
              "    box-shadow: 0 1px 2px rgba(60, 64, 67, 0.3), 0 1px 3px 1px rgba(60, 64, 67, 0.15);\n",
              "    fill: var(--button-hover-fill-color);\n",
              "  }\n",
              "\n",
              "  .colab-df-quickchart-complete:disabled,\n",
              "  .colab-df-quickchart-complete:disabled:hover {\n",
              "    background-color: var(--disabled-bg-color);\n",
              "    fill: var(--disabled-fill-color);\n",
              "    box-shadow: none;\n",
              "  }\n",
              "\n",
              "  .colab-df-spinner {\n",
              "    border: 2px solid var(--fill-color);\n",
              "    border-color: transparent;\n",
              "    border-bottom-color: var(--fill-color);\n",
              "    animation:\n",
              "      spin 1s steps(1) infinite;\n",
              "  }\n",
              "\n",
              "  @keyframes spin {\n",
              "    0% {\n",
              "      border-color: transparent;\n",
              "      border-bottom-color: var(--fill-color);\n",
              "      border-left-color: var(--fill-color);\n",
              "    }\n",
              "    20% {\n",
              "      border-color: transparent;\n",
              "      border-left-color: var(--fill-color);\n",
              "      border-top-color: var(--fill-color);\n",
              "    }\n",
              "    30% {\n",
              "      border-color: transparent;\n",
              "      border-left-color: var(--fill-color);\n",
              "      border-top-color: var(--fill-color);\n",
              "      border-right-color: var(--fill-color);\n",
              "    }\n",
              "    40% {\n",
              "      border-color: transparent;\n",
              "      border-right-color: var(--fill-color);\n",
              "      border-top-color: var(--fill-color);\n",
              "    }\n",
              "    60% {\n",
              "      border-color: transparent;\n",
              "      border-right-color: var(--fill-color);\n",
              "    }\n",
              "    80% {\n",
              "      border-color: transparent;\n",
              "      border-right-color: var(--fill-color);\n",
              "      border-bottom-color: var(--fill-color);\n",
              "    }\n",
              "    90% {\n",
              "      border-color: transparent;\n",
              "      border-bottom-color: var(--fill-color);\n",
              "    }\n",
              "  }\n",
              "</style>\n",
              "\n",
              "  <script>\n",
              "    async function quickchart(key) {\n",
              "      const quickchartButtonEl =\n",
              "        document.querySelector('#' + key + ' button');\n",
              "      quickchartButtonEl.disabled = true;  // To prevent multiple clicks.\n",
              "      quickchartButtonEl.classList.add('colab-df-spinner');\n",
              "      try {\n",
              "        const charts = await google.colab.kernel.invokeFunction(\n",
              "            'suggestCharts', [key], {});\n",
              "      } catch (error) {\n",
              "        console.error('Error during call to suggestCharts:', error);\n",
              "      }\n",
              "      quickchartButtonEl.classList.remove('colab-df-spinner');\n",
              "      quickchartButtonEl.classList.add('colab-df-quickchart-complete');\n",
              "    }\n",
              "    (() => {\n",
              "      let quickchartButtonEl =\n",
              "        document.querySelector('#df-6fdceeeb-f852-4968-a639-a5029c0a328e button');\n",
              "      quickchartButtonEl.style.display =\n",
              "        google.colab.kernel.accessAllowed ? 'block' : 'none';\n",
              "    })();\n",
              "  </script>\n",
              "</div>\n",
              "    </div>\n",
              "  </div>\n"
            ],
            "application/vnd.google.colaboratory.intrinsic+json": {
              "type": "dataframe",
              "variable_name": "temp",
              "summary": "{\n  \"name\": \"temp\",\n  \"rows\": 117,\n  \"fields\": [\n    {\n      \"column\": \"YEAR\",\n      \"properties\": {\n        \"dtype\": \"number\",\n        \"std\": 33,\n        \"min\": 1901,\n        \"max\": 2017,\n        \"samples\": [\n          1945,\n          1905,\n          1954\n        ],\n        \"num_unique_values\": 117,\n        \"semantic_type\": \"\",\n        \"description\": \"\"\n      }\n    },\n    {\n      \"column\": \"JAN\",\n      \"properties\": {\n        \"dtype\": \"number\",\n        \"std\": 0.834587606035784,\n        \"min\": 22.0,\n        \"max\": 26.94,\n        \"samples\": [\n          22.38,\n          22.84,\n          22.9\n        ],\n        \"num_unique_values\": 93,\n        \"semantic_type\": \"\",\n        \"description\": \"\"\n      }\n    },\n    {\n      \"column\": \"FEB\",\n      \"properties\": {\n        \"dtype\": \"number\",\n        \"std\": 1.1507567443147626,\n        \"min\": 22.83,\n        \"max\": 29.72,\n        \"samples\": [\n          26.19,\n          25.33,\n          26.59\n        ],\n        \"num_unique_values\": 99,\n        \"semantic_type\": \"\",\n        \"description\": \"\"\n      }\n    },\n    {\n      \"column\": \"MAR\",\n      \"properties\": {\n        \"dtype\": \"number\",\n        \"std\": 1.0684512315440673,\n        \"min\": 26.68,\n        \"max\": 32.62,\n        \"samples\": [\n          29.26,\n          29.11,\n          30.2\n        ],\n        \"num_unique_values\": 99,\n        \"semantic_type\": \"\",\n        \"description\": \"\"\n      }\n    },\n    {\n      \"column\": \"APR\",\n      \"properties\": {\n        \"dtype\": \"number\",\n        \"std\": 0.8894779942580806,\n        \"min\": 30.01,\n        \"max\": 35.38,\n        \"samples\": [\n          32.68,\n          30.75,\n          32.74\n        ],\n        \"num_unique_values\": 98,\n        \"semantic_type\": \"\",\n        \"description\": \"\"\n      }\n    },\n    {\n      \"column\": \"MAY\",\n      \"properties\": {\n        \"dtype\": \"number\",\n        \"std\": 0.7249049553033843,\n        \"min\": 31.93,\n        \"max\": 35.84,\n        \"samples\": [\n          34.23,\n          32.35,\n          32.86\n        ],\n        \"num_unique_values\": 92,\n        \"semantic_type\": \"\",\n        \"description\": \"\"\n      }\n    },\n    {\n      \"column\": \"JUN\",\n      \"properties\": {\n        \"dtype\": \"number\",\n        \"std\": 0.6331316748149578,\n        \"min\": 31.1,\n        \"max\": 34.48,\n        \"samples\": [\n          32.29,\n          33.18,\n          32.2\n        ],\n        \"num_unique_values\": 87,\n        \"semantic_type\": \"\",\n        \"description\": \"\"\n      }\n    },\n    {\n      \"column\": \"JUL\",\n      \"properties\": {\n        \"dtype\": \"number\",\n        \"std\": 0.468817576914948,\n        \"min\": 29.76,\n        \"max\": 32.76,\n        \"samples\": [\n          30.73,\n          31.21,\n          30.81\n        ],\n        \"num_unique_values\": 81,\n        \"semantic_type\": \"\",\n        \"description\": \"\"\n      }\n    },\n    {\n      \"column\": \"AUG\",\n      \"properties\": {\n        \"dtype\": \"number\",\n        \"std\": 0.4763119533699285,\n        \"min\": 29.31,\n        \"max\": 31.84,\n        \"samples\": [\n          30.32,\n          30.39,\n          30.08\n        ],\n        \"num_unique_values\": 81,\n        \"semantic_type\": \"\",\n        \"description\": \"\"\n      }\n    },\n    {\n      \"column\": \"SEP\",\n      \"properties\": {\n        \"dtype\": \"number\",\n        \"std\": 0.5442945910325506,\n        \"min\": 29.07,\n        \"max\": 32.22,\n        \"samples\": [\n          30.55,\n          29.32,\n          29.71\n        ],\n        \"num_unique_values\": 91,\n        \"semantic_type\": \"\",\n        \"description\": \"\"\n      }\n    },\n    {\n      \"column\": \"OCT\",\n      \"properties\": {\n        \"dtype\": \"number\",\n        \"std\": 0.705492200882088,\n        \"min\": 27.9,\n        \"max\": 32.29,\n        \"samples\": [\n          28.96,\n          28.57,\n          30.13\n        ],\n        \"num_unique_values\": 90,\n        \"semantic_type\": \"\",\n        \"description\": \"\"\n      }\n    },\n    {\n      \"column\": \"NOV\",\n      \"properties\": {\n        \"dtype\": \"number\",\n        \"std\": 0.7145175557391683,\n        \"min\": 25.7,\n        \"max\": 30.11,\n        \"samples\": [\n          27.49,\n          27.71,\n          28.05\n        ],\n        \"num_unique_values\": 98,\n        \"semantic_type\": \"\",\n        \"description\": \"\"\n      }\n    },\n    {\n      \"column\": \"DEC\",\n      \"properties\": {\n        \"dtype\": \"number\",\n        \"std\": 0.7826439391666521,\n        \"min\": 23.02,\n        \"max\": 28.01,\n        \"samples\": [\n          25.15,\n          26.21,\n          24.67\n        ],\n        \"num_unique_values\": 96,\n        \"semantic_type\": \"\",\n        \"description\": \"\"\n      }\n    },\n    {\n      \"column\": \"ANNUAL\",\n      \"properties\": {\n        \"dtype\": \"number\",\n        \"std\": 0.5555548732680748,\n        \"min\": 28.11,\n        \"max\": 31.63,\n        \"samples\": [\n          29.46,\n          28.96,\n          28.59\n        ],\n        \"num_unique_values\": 82,\n        \"semantic_type\": \"\",\n        \"description\": \"\"\n      }\n    },\n    {\n      \"column\": \"JAN-FEB\",\n      \"properties\": {\n        \"dtype\": \"number\",\n        \"std\": 0.9112386351993575,\n        \"min\": 22.25,\n        \"max\": 28.33,\n        \"samples\": [\n          24.12,\n          25.49,\n          25.58\n        ],\n        \"num_unique_values\": 97,\n        \"semantic_type\": \"\",\n        \"description\": \"\"\n      }\n    },\n    {\n      \"column\": \"MAR-MAY\",\n      \"properties\": {\n        \"dtype\": \"number\",\n        \"std\": 0.7405853341744104,\n        \"min\": 29.92,\n        \"max\": 34.57,\n        \"samples\": [\n          31.62,\n          30.8,\n          31.82\n        ],\n        \"num_unique_values\": 97,\n        \"semantic_type\": \"\",\n        \"description\": \"\"\n      }\n    },\n    {\n      \"column\": \"JUN-SEP\",\n      \"properties\": {\n        \"dtype\": \"number\",\n        \"std\": 0.42050793461826996,\n        \"min\": 30.24,\n        \"max\": 32.41,\n        \"samples\": [\n          31.37,\n          31.27,\n          30.99\n        ],\n        \"num_unique_values\": 78,\n        \"semantic_type\": \"\",\n        \"description\": \"\"\n      }\n    },\n    {\n      \"column\": \"OCT-DEC\",\n      \"properties\": {\n        \"dtype\": \"number\",\n        \"std\": 0.6720028371552533,\n        \"min\": 25.74,\n        \"max\": 30.03,\n        \"samples\": [\n          26.77,\n          26.74,\n          27.71\n        ],\n        \"num_unique_values\": 91,\n        \"semantic_type\": \"\",\n        \"description\": \"\"\n      }\n    }\n  ]\n}"
            }
          },
          "metadata": {},
          "execution_count": 5
        }
      ]
    },
    {
      "cell_type": "code",
      "source": [
        "temp.describe()"
      ],
      "metadata": {
        "colab": {
          "base_uri": "https://localhost:8080/",
          "height": 320
        },
        "id": "waey9FfaoUvS",
        "outputId": "7a402f3e-73bf-47c9-fa4b-ec888f1f35ab"
      },
      "execution_count": null,
      "outputs": [
        {
          "output_type": "execute_result",
          "data": {
            "text/plain": [
              "              YEAR         JAN         FEB         MAR         APR  \\\n",
              "count   117.000000  117.000000  117.000000  117.000000  117.000000   \n",
              "mean   1959.000000   23.687436   25.597863   29.085983   31.975812   \n",
              "std      33.919021    0.834588    1.150757    1.068451    0.889478   \n",
              "min    1901.000000   22.000000   22.830000   26.680000   30.010000   \n",
              "25%    1930.000000   23.100000   24.780000   28.370000   31.460000   \n",
              "50%    1959.000000   23.680000   25.480000   29.040000   31.950000   \n",
              "75%    1988.000000   24.180000   26.310000   29.610000   32.420000   \n",
              "max    2017.000000   26.940000   29.720000   32.620000   35.380000   \n",
              "\n",
              "              MAY         JUN         JUL         AUG         SEP         OCT  \\\n",
              "count  117.000000  117.000000  117.000000  117.000000  117.000000  117.000000   \n",
              "mean    33.565299   32.774274   31.035897   30.507692   30.486752   29.766581   \n",
              "std      0.724905    0.633132    0.468818    0.476312    0.544295    0.705492   \n",
              "min     31.930000   31.100000   29.760000   29.310000   29.070000   27.900000   \n",
              "25%     33.110000   32.340000   30.740000   30.180000   30.120000   29.380000   \n",
              "50%     33.510000   32.730000   31.000000   30.540000   30.520000   29.780000   \n",
              "75%     34.030000   33.180000   31.330000   30.760000   30.810000   30.170000   \n",
              "max     35.840000   34.480000   32.760000   31.840000   32.220000   32.290000   \n",
              "\n",
              "              NOV         DEC      ANNUAL     JAN-FEB     MAR-MAY     JUN-SEP  \\\n",
              "count  117.000000  117.000000  117.000000  117.000000  117.000000  117.000000   \n",
              "mean    27.285470   24.608291   29.181368   24.629573   31.517607   31.198205   \n",
              "std      0.714518    0.782644    0.555555    0.911239    0.740585    0.420508   \n",
              "min     25.700000   23.020000   28.110000   22.250000   29.920000   30.240000   \n",
              "25%     26.790000   24.040000   28.760000   24.110000   31.040000   30.920000   \n",
              "50%     27.300000   24.660000   29.090000   24.530000   31.470000   31.190000   \n",
              "75%     27.720000   25.110000   29.470000   25.150000   31.890000   31.400000   \n",
              "max     30.110000   28.010000   31.630000   28.330000   34.570000   32.410000   \n",
              "\n",
              "          OCT-DEC  \n",
              "count  117.000000  \n",
              "mean    27.208120  \n",
              "std      0.672003  \n",
              "min     25.740000  \n",
              "25%     26.700000  \n",
              "50%     27.210000  \n",
              "75%     27.610000  \n",
              "max     30.030000  "
            ],
            "text/html": [
              "\n",
              "  <div id=\"df-5f597d2d-4f43-4fa5-b463-991745ff5634\" class=\"colab-df-container\">\n",
              "    <div>\n",
              "<style scoped>\n",
              "    .dataframe tbody tr th:only-of-type {\n",
              "        vertical-align: middle;\n",
              "    }\n",
              "\n",
              "    .dataframe tbody tr th {\n",
              "        vertical-align: top;\n",
              "    }\n",
              "\n",
              "    .dataframe thead th {\n",
              "        text-align: right;\n",
              "    }\n",
              "</style>\n",
              "<table border=\"1\" class=\"dataframe\">\n",
              "  <thead>\n",
              "    <tr style=\"text-align: right;\">\n",
              "      <th></th>\n",
              "      <th>YEAR</th>\n",
              "      <th>JAN</th>\n",
              "      <th>FEB</th>\n",
              "      <th>MAR</th>\n",
              "      <th>APR</th>\n",
              "      <th>MAY</th>\n",
              "      <th>JUN</th>\n",
              "      <th>JUL</th>\n",
              "      <th>AUG</th>\n",
              "      <th>SEP</th>\n",
              "      <th>OCT</th>\n",
              "      <th>NOV</th>\n",
              "      <th>DEC</th>\n",
              "      <th>ANNUAL</th>\n",
              "      <th>JAN-FEB</th>\n",
              "      <th>MAR-MAY</th>\n",
              "      <th>JUN-SEP</th>\n",
              "      <th>OCT-DEC</th>\n",
              "    </tr>\n",
              "  </thead>\n",
              "  <tbody>\n",
              "    <tr>\n",
              "      <th>count</th>\n",
              "      <td>117.000000</td>\n",
              "      <td>117.000000</td>\n",
              "      <td>117.000000</td>\n",
              "      <td>117.000000</td>\n",
              "      <td>117.000000</td>\n",
              "      <td>117.000000</td>\n",
              "      <td>117.000000</td>\n",
              "      <td>117.000000</td>\n",
              "      <td>117.000000</td>\n",
              "      <td>117.000000</td>\n",
              "      <td>117.000000</td>\n",
              "      <td>117.000000</td>\n",
              "      <td>117.000000</td>\n",
              "      <td>117.000000</td>\n",
              "      <td>117.000000</td>\n",
              "      <td>117.000000</td>\n",
              "      <td>117.000000</td>\n",
              "      <td>117.000000</td>\n",
              "    </tr>\n",
              "    <tr>\n",
              "      <th>mean</th>\n",
              "      <td>1959.000000</td>\n",
              "      <td>23.687436</td>\n",
              "      <td>25.597863</td>\n",
              "      <td>29.085983</td>\n",
              "      <td>31.975812</td>\n",
              "      <td>33.565299</td>\n",
              "      <td>32.774274</td>\n",
              "      <td>31.035897</td>\n",
              "      <td>30.507692</td>\n",
              "      <td>30.486752</td>\n",
              "      <td>29.766581</td>\n",
              "      <td>27.285470</td>\n",
              "      <td>24.608291</td>\n",
              "      <td>29.181368</td>\n",
              "      <td>24.629573</td>\n",
              "      <td>31.517607</td>\n",
              "      <td>31.198205</td>\n",
              "      <td>27.208120</td>\n",
              "    </tr>\n",
              "    <tr>\n",
              "      <th>std</th>\n",
              "      <td>33.919021</td>\n",
              "      <td>0.834588</td>\n",
              "      <td>1.150757</td>\n",
              "      <td>1.068451</td>\n",
              "      <td>0.889478</td>\n",
              "      <td>0.724905</td>\n",
              "      <td>0.633132</td>\n",
              "      <td>0.468818</td>\n",
              "      <td>0.476312</td>\n",
              "      <td>0.544295</td>\n",
              "      <td>0.705492</td>\n",
              "      <td>0.714518</td>\n",
              "      <td>0.782644</td>\n",
              "      <td>0.555555</td>\n",
              "      <td>0.911239</td>\n",
              "      <td>0.740585</td>\n",
              "      <td>0.420508</td>\n",
              "      <td>0.672003</td>\n",
              "    </tr>\n",
              "    <tr>\n",
              "      <th>min</th>\n",
              "      <td>1901.000000</td>\n",
              "      <td>22.000000</td>\n",
              "      <td>22.830000</td>\n",
              "      <td>26.680000</td>\n",
              "      <td>30.010000</td>\n",
              "      <td>31.930000</td>\n",
              "      <td>31.100000</td>\n",
              "      <td>29.760000</td>\n",
              "      <td>29.310000</td>\n",
              "      <td>29.070000</td>\n",
              "      <td>27.900000</td>\n",
              "      <td>25.700000</td>\n",
              "      <td>23.020000</td>\n",
              "      <td>28.110000</td>\n",
              "      <td>22.250000</td>\n",
              "      <td>29.920000</td>\n",
              "      <td>30.240000</td>\n",
              "      <td>25.740000</td>\n",
              "    </tr>\n",
              "    <tr>\n",
              "      <th>25%</th>\n",
              "      <td>1930.000000</td>\n",
              "      <td>23.100000</td>\n",
              "      <td>24.780000</td>\n",
              "      <td>28.370000</td>\n",
              "      <td>31.460000</td>\n",
              "      <td>33.110000</td>\n",
              "      <td>32.340000</td>\n",
              "      <td>30.740000</td>\n",
              "      <td>30.180000</td>\n",
              "      <td>30.120000</td>\n",
              "      <td>29.380000</td>\n",
              "      <td>26.790000</td>\n",
              "      <td>24.040000</td>\n",
              "      <td>28.760000</td>\n",
              "      <td>24.110000</td>\n",
              "      <td>31.040000</td>\n",
              "      <td>30.920000</td>\n",
              "      <td>26.700000</td>\n",
              "    </tr>\n",
              "    <tr>\n",
              "      <th>50%</th>\n",
              "      <td>1959.000000</td>\n",
              "      <td>23.680000</td>\n",
              "      <td>25.480000</td>\n",
              "      <td>29.040000</td>\n",
              "      <td>31.950000</td>\n",
              "      <td>33.510000</td>\n",
              "      <td>32.730000</td>\n",
              "      <td>31.000000</td>\n",
              "      <td>30.540000</td>\n",
              "      <td>30.520000</td>\n",
              "      <td>29.780000</td>\n",
              "      <td>27.300000</td>\n",
              "      <td>24.660000</td>\n",
              "      <td>29.090000</td>\n",
              "      <td>24.530000</td>\n",
              "      <td>31.470000</td>\n",
              "      <td>31.190000</td>\n",
              "      <td>27.210000</td>\n",
              "    </tr>\n",
              "    <tr>\n",
              "      <th>75%</th>\n",
              "      <td>1988.000000</td>\n",
              "      <td>24.180000</td>\n",
              "      <td>26.310000</td>\n",
              "      <td>29.610000</td>\n",
              "      <td>32.420000</td>\n",
              "      <td>34.030000</td>\n",
              "      <td>33.180000</td>\n",
              "      <td>31.330000</td>\n",
              "      <td>30.760000</td>\n",
              "      <td>30.810000</td>\n",
              "      <td>30.170000</td>\n",
              "      <td>27.720000</td>\n",
              "      <td>25.110000</td>\n",
              "      <td>29.470000</td>\n",
              "      <td>25.150000</td>\n",
              "      <td>31.890000</td>\n",
              "      <td>31.400000</td>\n",
              "      <td>27.610000</td>\n",
              "    </tr>\n",
              "    <tr>\n",
              "      <th>max</th>\n",
              "      <td>2017.000000</td>\n",
              "      <td>26.940000</td>\n",
              "      <td>29.720000</td>\n",
              "      <td>32.620000</td>\n",
              "      <td>35.380000</td>\n",
              "      <td>35.840000</td>\n",
              "      <td>34.480000</td>\n",
              "      <td>32.760000</td>\n",
              "      <td>31.840000</td>\n",
              "      <td>32.220000</td>\n",
              "      <td>32.290000</td>\n",
              "      <td>30.110000</td>\n",
              "      <td>28.010000</td>\n",
              "      <td>31.630000</td>\n",
              "      <td>28.330000</td>\n",
              "      <td>34.570000</td>\n",
              "      <td>32.410000</td>\n",
              "      <td>30.030000</td>\n",
              "    </tr>\n",
              "  </tbody>\n",
              "</table>\n",
              "</div>\n",
              "    <div class=\"colab-df-buttons\">\n",
              "\n",
              "  <div class=\"colab-df-container\">\n",
              "    <button class=\"colab-df-convert\" onclick=\"convertToInteractive('df-5f597d2d-4f43-4fa5-b463-991745ff5634')\"\n",
              "            title=\"Convert this dataframe to an interactive table.\"\n",
              "            style=\"display:none;\">\n",
              "\n",
              "  <svg xmlns=\"http://www.w3.org/2000/svg\" height=\"24px\" viewBox=\"0 -960 960 960\">\n",
              "    <path d=\"M120-120v-720h720v720H120Zm60-500h600v-160H180v160Zm220 220h160v-160H400v160Zm0 220h160v-160H400v160ZM180-400h160v-160H180v160Zm440 0h160v-160H620v160ZM180-180h160v-160H180v160Zm440 0h160v-160H620v160Z\"/>\n",
              "  </svg>\n",
              "    </button>\n",
              "\n",
              "  <style>\n",
              "    .colab-df-container {\n",
              "      display:flex;\n",
              "      gap: 12px;\n",
              "    }\n",
              "\n",
              "    .colab-df-convert {\n",
              "      background-color: #E8F0FE;\n",
              "      border: none;\n",
              "      border-radius: 50%;\n",
              "      cursor: pointer;\n",
              "      display: none;\n",
              "      fill: #1967D2;\n",
              "      height: 32px;\n",
              "      padding: 0 0 0 0;\n",
              "      width: 32px;\n",
              "    }\n",
              "\n",
              "    .colab-df-convert:hover {\n",
              "      background-color: #E2EBFA;\n",
              "      box-shadow: 0px 1px 2px rgba(60, 64, 67, 0.3), 0px 1px 3px 1px rgba(60, 64, 67, 0.15);\n",
              "      fill: #174EA6;\n",
              "    }\n",
              "\n",
              "    .colab-df-buttons div {\n",
              "      margin-bottom: 4px;\n",
              "    }\n",
              "\n",
              "    [theme=dark] .colab-df-convert {\n",
              "      background-color: #3B4455;\n",
              "      fill: #D2E3FC;\n",
              "    }\n",
              "\n",
              "    [theme=dark] .colab-df-convert:hover {\n",
              "      background-color: #434B5C;\n",
              "      box-shadow: 0px 1px 3px 1px rgba(0, 0, 0, 0.15);\n",
              "      filter: drop-shadow(0px 1px 2px rgba(0, 0, 0, 0.3));\n",
              "      fill: #FFFFFF;\n",
              "    }\n",
              "  </style>\n",
              "\n",
              "    <script>\n",
              "      const buttonEl =\n",
              "        document.querySelector('#df-5f597d2d-4f43-4fa5-b463-991745ff5634 button.colab-df-convert');\n",
              "      buttonEl.style.display =\n",
              "        google.colab.kernel.accessAllowed ? 'block' : 'none';\n",
              "\n",
              "      async function convertToInteractive(key) {\n",
              "        const element = document.querySelector('#df-5f597d2d-4f43-4fa5-b463-991745ff5634');\n",
              "        const dataTable =\n",
              "          await google.colab.kernel.invokeFunction('convertToInteractive',\n",
              "                                                    [key], {});\n",
              "        if (!dataTable) return;\n",
              "\n",
              "        const docLinkHtml = 'Like what you see? Visit the ' +\n",
              "          '<a target=\"_blank\" href=https://colab.research.google.com/notebooks/data_table.ipynb>data table notebook</a>'\n",
              "          + ' to learn more about interactive tables.';\n",
              "        element.innerHTML = '';\n",
              "        dataTable['output_type'] = 'display_data';\n",
              "        await google.colab.output.renderOutput(dataTable, element);\n",
              "        const docLink = document.createElement('div');\n",
              "        docLink.innerHTML = docLinkHtml;\n",
              "        element.appendChild(docLink);\n",
              "      }\n",
              "    </script>\n",
              "  </div>\n",
              "\n",
              "\n",
              "<div id=\"df-dd09d98f-6aa1-4deb-9695-c5ece2535191\">\n",
              "  <button class=\"colab-df-quickchart\" onclick=\"quickchart('df-dd09d98f-6aa1-4deb-9695-c5ece2535191')\"\n",
              "            title=\"Suggest charts\"\n",
              "            style=\"display:none;\">\n",
              "\n",
              "<svg xmlns=\"http://www.w3.org/2000/svg\" height=\"24px\"viewBox=\"0 0 24 24\"\n",
              "     width=\"24px\">\n",
              "    <g>\n",
              "        <path d=\"M19 3H5c-1.1 0-2 .9-2 2v14c0 1.1.9 2 2 2h14c1.1 0 2-.9 2-2V5c0-1.1-.9-2-2-2zM9 17H7v-7h2v7zm4 0h-2V7h2v10zm4 0h-2v-4h2v4z\"/>\n",
              "    </g>\n",
              "</svg>\n",
              "  </button>\n",
              "\n",
              "<style>\n",
              "  .colab-df-quickchart {\n",
              "      --bg-color: #E8F0FE;\n",
              "      --fill-color: #1967D2;\n",
              "      --hover-bg-color: #E2EBFA;\n",
              "      --hover-fill-color: #174EA6;\n",
              "      --disabled-fill-color: #AAA;\n",
              "      --disabled-bg-color: #DDD;\n",
              "  }\n",
              "\n",
              "  [theme=dark] .colab-df-quickchart {\n",
              "      --bg-color: #3B4455;\n",
              "      --fill-color: #D2E3FC;\n",
              "      --hover-bg-color: #434B5C;\n",
              "      --hover-fill-color: #FFFFFF;\n",
              "      --disabled-bg-color: #3B4455;\n",
              "      --disabled-fill-color: #666;\n",
              "  }\n",
              "\n",
              "  .colab-df-quickchart {\n",
              "    background-color: var(--bg-color);\n",
              "    border: none;\n",
              "    border-radius: 50%;\n",
              "    cursor: pointer;\n",
              "    display: none;\n",
              "    fill: var(--fill-color);\n",
              "    height: 32px;\n",
              "    padding: 0;\n",
              "    width: 32px;\n",
              "  }\n",
              "\n",
              "  .colab-df-quickchart:hover {\n",
              "    background-color: var(--hover-bg-color);\n",
              "    box-shadow: 0 1px 2px rgba(60, 64, 67, 0.3), 0 1px 3px 1px rgba(60, 64, 67, 0.15);\n",
              "    fill: var(--button-hover-fill-color);\n",
              "  }\n",
              "\n",
              "  .colab-df-quickchart-complete:disabled,\n",
              "  .colab-df-quickchart-complete:disabled:hover {\n",
              "    background-color: var(--disabled-bg-color);\n",
              "    fill: var(--disabled-fill-color);\n",
              "    box-shadow: none;\n",
              "  }\n",
              "\n",
              "  .colab-df-spinner {\n",
              "    border: 2px solid var(--fill-color);\n",
              "    border-color: transparent;\n",
              "    border-bottom-color: var(--fill-color);\n",
              "    animation:\n",
              "      spin 1s steps(1) infinite;\n",
              "  }\n",
              "\n",
              "  @keyframes spin {\n",
              "    0% {\n",
              "      border-color: transparent;\n",
              "      border-bottom-color: var(--fill-color);\n",
              "      border-left-color: var(--fill-color);\n",
              "    }\n",
              "    20% {\n",
              "      border-color: transparent;\n",
              "      border-left-color: var(--fill-color);\n",
              "      border-top-color: var(--fill-color);\n",
              "    }\n",
              "    30% {\n",
              "      border-color: transparent;\n",
              "      border-left-color: var(--fill-color);\n",
              "      border-top-color: var(--fill-color);\n",
              "      border-right-color: var(--fill-color);\n",
              "    }\n",
              "    40% {\n",
              "      border-color: transparent;\n",
              "      border-right-color: var(--fill-color);\n",
              "      border-top-color: var(--fill-color);\n",
              "    }\n",
              "    60% {\n",
              "      border-color: transparent;\n",
              "      border-right-color: var(--fill-color);\n",
              "    }\n",
              "    80% {\n",
              "      border-color: transparent;\n",
              "      border-right-color: var(--fill-color);\n",
              "      border-bottom-color: var(--fill-color);\n",
              "    }\n",
              "    90% {\n",
              "      border-color: transparent;\n",
              "      border-bottom-color: var(--fill-color);\n",
              "    }\n",
              "  }\n",
              "</style>\n",
              "\n",
              "  <script>\n",
              "    async function quickchart(key) {\n",
              "      const quickchartButtonEl =\n",
              "        document.querySelector('#' + key + ' button');\n",
              "      quickchartButtonEl.disabled = true;  // To prevent multiple clicks.\n",
              "      quickchartButtonEl.classList.add('colab-df-spinner');\n",
              "      try {\n",
              "        const charts = await google.colab.kernel.invokeFunction(\n",
              "            'suggestCharts', [key], {});\n",
              "      } catch (error) {\n",
              "        console.error('Error during call to suggestCharts:', error);\n",
              "      }\n",
              "      quickchartButtonEl.classList.remove('colab-df-spinner');\n",
              "      quickchartButtonEl.classList.add('colab-df-quickchart-complete');\n",
              "    }\n",
              "    (() => {\n",
              "      let quickchartButtonEl =\n",
              "        document.querySelector('#df-dd09d98f-6aa1-4deb-9695-c5ece2535191 button');\n",
              "      quickchartButtonEl.style.display =\n",
              "        google.colab.kernel.accessAllowed ? 'block' : 'none';\n",
              "    })();\n",
              "  </script>\n",
              "</div>\n",
              "    </div>\n",
              "  </div>\n"
            ],
            "application/vnd.google.colaboratory.intrinsic+json": {
              "type": "dataframe",
              "summary": "{\n  \"name\": \"temp\",\n  \"rows\": 8,\n  \"fields\": [\n    {\n      \"column\": \"YEAR\",\n      \"properties\": {\n        \"dtype\": \"number\",\n        \"std\": 872.8809759556664,\n        \"min\": 33.91902121229326,\n        \"max\": 2017.0,\n        \"samples\": [\n          117.0,\n          1959.0,\n          1988.0\n        ],\n        \"num_unique_values\": 7,\n        \"semantic_type\": \"\",\n        \"description\": \"\"\n      }\n    },\n    {\n      \"column\": \"JAN\",\n      \"properties\": {\n        \"dtype\": \"number\",\n        \"std\": 35.04465571501202,\n        \"min\": 0.834587606035784,\n        \"max\": 117.0,\n        \"samples\": [\n          23.687435897435893,\n          23.68,\n          117.0\n        ],\n        \"num_unique_values\": 8,\n        \"semantic_type\": \"\",\n        \"description\": \"\"\n      }\n    },\n    {\n      \"column\": \"FEB\",\n      \"properties\": {\n        \"dtype\": \"number\",\n        \"std\": 34.63770978054005,\n        \"min\": 1.1507567443147626,\n        \"max\": 117.0,\n        \"samples\": [\n          25.59786324786324,\n          25.48,\n          117.0\n        ],\n        \"num_unique_values\": 8,\n        \"semantic_type\": \"\",\n        \"description\": \"\"\n      }\n    },\n    {\n      \"column\": \"MAR\",\n      \"properties\": {\n        \"dtype\": \"number\",\n        \"std\": 33.95595456532858,\n        \"min\": 1.0684512315440673,\n        \"max\": 117.0,\n        \"samples\": [\n          29.085982905982902,\n          29.04,\n          117.0\n        ],\n        \"num_unique_values\": 8,\n        \"semantic_type\": \"\",\n        \"description\": \"\"\n      }\n    },\n    {\n      \"column\": \"APR\",\n      \"properties\": {\n        \"dtype\": \"number\",\n        \"std\": 33.44381539726126,\n        \"min\": 0.8894779942580806,\n        \"max\": 117.0,\n        \"samples\": [\n          31.97581196581196,\n          31.95,\n          117.0\n        ],\n        \"num_unique_values\": 8,\n        \"semantic_type\": \"\",\n        \"description\": \"\"\n      }\n    },\n    {\n      \"column\": \"MAY\",\n      \"properties\": {\n        \"dtype\": \"number\",\n        \"std\": 33.21056537599255,\n        \"min\": 0.7249049553033843,\n        \"max\": 117.0,\n        \"samples\": [\n          33.56529914529915,\n          33.51,\n          117.0\n        ],\n        \"num_unique_values\": 8,\n        \"semantic_type\": \"\",\n        \"description\": \"\"\n      }\n    },\n    {\n      \"column\": \"JUN\",\n      \"properties\": {\n        \"dtype\": \"number\",\n        \"std\": 33.36921551314657,\n        \"min\": 0.6331316748149578,\n        \"max\": 117.0,\n        \"samples\": [\n          32.77427350427351,\n          32.73,\n          117.0\n        ],\n        \"num_unique_values\": 8,\n        \"semantic_type\": \"\",\n        \"description\": \"\"\n      }\n    },\n    {\n      \"column\": \"JUL\",\n      \"properties\": {\n        \"dtype\": \"number\",\n        \"std\": 33.67839272808844,\n        \"min\": 0.468817576914948,\n        \"max\": 117.0,\n        \"samples\": [\n          31.03589743589744,\n          31.0,\n          117.0\n        ],\n        \"num_unique_values\": 8,\n        \"semantic_type\": \"\",\n        \"description\": \"\"\n      }\n    },\n    {\n      \"column\": \"AUG\",\n      \"properties\": {\n        \"dtype\": \"number\",\n        \"std\": 33.777448136471186,\n        \"min\": 0.4763119533699285,\n        \"max\": 117.0,\n        \"samples\": [\n          30.50769230769231,\n          30.54,\n          117.0\n        ],\n        \"num_unique_values\": 8,\n        \"semantic_type\": \"\",\n        \"description\": \"\"\n      }\n    },\n    {\n      \"column\": \"SEP\",\n      \"properties\": {\n        \"dtype\": \"number\",\n        \"std\": 33.76805272471449,\n        \"min\": 0.5442945910325506,\n        \"max\": 117.0,\n        \"samples\": [\n          30.486752136752134,\n          30.52,\n          117.0\n        ],\n        \"num_unique_values\": 8,\n        \"semantic_type\": \"\",\n        \"description\": \"\"\n      }\n    },\n    {\n      \"column\": \"OCT\",\n      \"properties\": {\n        \"dtype\": \"number\",\n        \"std\": 33.8722946579452,\n        \"min\": 0.705492200882088,\n        \"max\": 117.0,\n        \"samples\": [\n          29.7665811965812,\n          29.78,\n          117.0\n        ],\n        \"num_unique_values\": 8,\n        \"semantic_type\": \"\",\n        \"description\": \"\"\n      }\n    },\n    {\n      \"column\": \"NOV\",\n      \"properties\": {\n        \"dtype\": \"number\",\n        \"std\": 34.32667608296349,\n        \"min\": 0.7145175557391683,\n        \"max\": 117.0,\n        \"samples\": [\n          27.285470085470088,\n          27.3,\n          117.0\n        ],\n        \"num_unique_values\": 8,\n        \"semantic_type\": \"\",\n        \"description\": \"\"\n      }\n    },\n    {\n      \"column\": \"DEC\",\n      \"properties\": {\n        \"dtype\": \"number\",\n        \"std\": 34.84591337175933,\n        \"min\": 0.7826439391666521,\n        \"max\": 117.0,\n        \"samples\": [\n          24.6082905982906,\n          24.66,\n          117.0\n        ],\n        \"num_unique_values\": 8,\n        \"semantic_type\": \"\",\n        \"description\": \"\"\n      }\n    },\n    {\n      \"column\": \"ANNUAL\",\n      \"properties\": {\n        \"dtype\": \"number\",\n        \"std\": 33.98267941291015,\n        \"min\": 0.5555548732680748,\n        \"max\": 117.0,\n        \"samples\": [\n          29.18136752136752,\n          29.09,\n          117.0\n        ],\n        \"num_unique_values\": 8,\n        \"semantic_type\": \"\",\n        \"description\": \"\"\n      }\n    },\n    {\n      \"column\": \"JAN-FEB\",\n      \"properties\": {\n        \"dtype\": \"number\",\n        \"std\": 34.855744468480296,\n        \"min\": 0.9112386351993575,\n        \"max\": 117.0,\n        \"samples\": [\n          24.629572649572648,\n          24.53,\n          117.0\n        ],\n        \"num_unique_values\": 8,\n        \"semantic_type\": \"\",\n        \"description\": \"\"\n      }\n    },\n    {\n      \"column\": \"MAR-MAY\",\n      \"properties\": {\n        \"dtype\": \"number\",\n        \"std\": 33.54016859371765,\n        \"min\": 0.7405853341744104,\n        \"max\": 117.0,\n        \"samples\": [\n          31.517606837606838,\n          31.47,\n          117.0\n        ],\n        \"num_unique_values\": 8,\n        \"semantic_type\": \"\",\n        \"description\": \"\"\n      }\n    },\n    {\n      \"column\": \"JUN-SEP\",\n      \"properties\": {\n        \"dtype\": \"number\",\n        \"std\": 33.65992750632162,\n        \"min\": 0.42050793461826996,\n        \"max\": 117.0,\n        \"samples\": [\n          31.19820512820512,\n          31.19,\n          117.0\n        ],\n        \"num_unique_values\": 8,\n        \"semantic_type\": \"\",\n        \"description\": \"\"\n      }\n    },\n    {\n      \"column\": \"OCT-DEC\",\n      \"properties\": {\n        \"dtype\": \"number\",\n        \"std\": 34.34524464800434,\n        \"min\": 0.6720028371552533,\n        \"max\": 117.0,\n        \"samples\": [\n          27.208119658119656,\n          27.21,\n          117.0\n        ],\n        \"num_unique_values\": 8,\n        \"semantic_type\": \"\",\n        \"description\": \"\"\n      }\n    }\n  ]\n}"
            }
          },
          "metadata": {},
          "execution_count": 8
        }
      ]
    },
    {
      "cell_type": "code",
      "source": [
        "temp.info()"
      ],
      "metadata": {
        "colab": {
          "base_uri": "https://localhost:8080/"
        },
        "id": "DJiaQiLHofRh",
        "outputId": "3f5dde3f-7f09-45b4-d5fc-5dd41976a9fb"
      },
      "execution_count": null,
      "outputs": [
        {
          "output_type": "stream",
          "name": "stdout",
          "text": [
            "<class 'pandas.core.frame.DataFrame'>\n",
            "RangeIndex: 117 entries, 0 to 116\n",
            "Data columns (total 18 columns):\n",
            " #   Column   Non-Null Count  Dtype  \n",
            "---  ------   --------------  -----  \n",
            " 0   YEAR     117 non-null    int64  \n",
            " 1   JAN      117 non-null    float64\n",
            " 2   FEB      117 non-null    float64\n",
            " 3   MAR      117 non-null    float64\n",
            " 4   APR      117 non-null    float64\n",
            " 5   MAY      117 non-null    float64\n",
            " 6   JUN      117 non-null    float64\n",
            " 7   JUL      117 non-null    float64\n",
            " 8   AUG      117 non-null    float64\n",
            " 9   SEP      117 non-null    float64\n",
            " 10  OCT      117 non-null    float64\n",
            " 11  NOV      117 non-null    float64\n",
            " 12  DEC      117 non-null    float64\n",
            " 13  ANNUAL   117 non-null    float64\n",
            " 14  JAN-FEB  117 non-null    float64\n",
            " 15  MAR-MAY  117 non-null    float64\n",
            " 16  JUN-SEP  117 non-null    float64\n",
            " 17  OCT-DEC  117 non-null    float64\n",
            "dtypes: float64(17), int64(1)\n",
            "memory usage: 16.6 KB\n"
          ]
        }
      ]
    },
    {
      "cell_type": "code",
      "source": [
        "temp.shape"
      ],
      "metadata": {
        "colab": {
          "base_uri": "https://localhost:8080/"
        },
        "id": "6-61SwRfpCtu",
        "outputId": "d1382638-7829-42b4-92a7-8360bf31c284"
      },
      "execution_count": null,
      "outputs": [
        {
          "output_type": "execute_result",
          "data": {
            "text/plain": [
              "(117, 18)"
            ]
          },
          "metadata": {},
          "execution_count": 11
        }
      ]
    },
    {
      "source": [
        "temp.plot(kind='scatter', x='YEAR', y='JAN', s=32, alpha=.8,title='Years vs Jan')"
      ],
      "cell_type": "code",
      "execution_count": null,
      "outputs": [
        {
          "output_type": "execute_result",
          "data": {
            "text/plain": [
              "<Axes: title={'center': 'Years vs Jan'}, xlabel='YEAR', ylabel='JAN'>"
            ]
          },
          "metadata": {},
          "execution_count": 20
        },
        {
          "output_type": "display_data",
          "data": {
            "text/plain": [
              "<Figure size 640x480 with 1 Axes>"
            ],
            "image/png": "[encoded data removed]"
          },
          "metadata": {}
        }
      ],
      "metadata": {
        "colab": {
          "base_uri": "https://localhost:8080/",
          "height": 490
        },
        "id": "-ljqAn4joLvb",
        "outputId": "099bce95-d216-4aaf-f4f8-c90efc85fa62"
      }
    },
    {
      "source": [
        "temp['JAN'].plot(kind='hist', bins=20, title='JAN')\n"
      ],
      "cell_type": "code",
      "execution_count": null,
      "outputs": [
        {
          "output_type": "execute_result",
          "data": {
            "text/plain": [
              "<Axes: title={'center': 'JAN'}, ylabel='Frequency'>"
            ]
          },
          "metadata": {},
          "execution_count": 14
        },
        {
          "output_type": "display_data",
          "data": {
            "text/plain": [
              "<Figure size 640x480 with 1 Axes>"
            ],
            "image/png": "[encoded data removed]"
          },
          "metadata": {}
        }
      ],
      "metadata": {
        "colab": {
          "base_uri": "https://localhost:8080/",
          "height": 470
        },
        "id": "3C2f2PwhpS2Y",
        "outputId": "9f0ee377-7bcb-4aa7-aab9-2f8737d9b3dc"
      }
    },
    {
      "source": [
        "temp['FEB'].plot(kind='line', figsize=(8, 4), title='FEB')\n",
        "plt.gca().spines[['top', 'right']].set_visible(False)"
      ],
      "cell_type": "code",
      "execution_count": null,
      "outputs": [
        {
          "output_type": "display_data",
          "data": {
            "text/plain": [
              "<Figure size 800x400 with 1 Axes>"
            ],
            "image/png": "[encoded data removed]"
          },
          "metadata": {}
        }
      ],
      "metadata": {
        "colab": {
          "base_uri": "https://localhost:8080/",
          "height": 391
        },
        "id": "n_7iexDjpcYY",
        "outputId": "1e5dd328-5e22-4809-bd7a-3704e23bb216"
      }
    },
    {
      "cell_type": "code",
      "source": [
        "x = temp.iloc[:,0:1]\n",
        "y = temp.iloc[:,13:14]\n",
        "x_train,x_test, y_train, y_test = train_test_split(x, y,test_size=0.40, random_state=0)\n",
        "y_test = np.array(y_test)\n",
        "print(x_train.shape)\n",
        "print(x_test.shape)\n",
        "print(y_train.shape)\n",
        "print(y_test.shape)"
      ],
      "metadata": {
        "colab": {
          "base_uri": "https://localhost:8080/"
        },
        "id": "ihHTg9ToqIKM",
        "outputId": "7793fd96-f26d-4773-bfe9-1d49174fcd25"
      },
      "execution_count": null,
      "outputs": [
        {
          "output_type": "stream",
          "name": "stdout",
          "text": [
            "(70, 1)\n",
            "(47, 1)\n",
            "(70, 1)\n",
            "(47, 1)\n"
          ]
        }
      ]
    },
    {
      "cell_type": "code",
      "source": [
        "model=LinearRegression()\n",
        "model.fit(x_train,y_train)"
      ],
      "metadata": {
        "colab": {
          "base_uri": "https://localhost:8080/",
          "height": 74
        },
        "id": "5tjSN-Jbs3wj",
        "outputId": "2b70e9ec-78d5-427a-c2bf-7abd94ba54bf"
      },
      "execution_count": null,
      "outputs": [
        {
          "output_type": "execute_result",
          "data": {
            "text/plain": [
              "LinearRegression()"
            ],
            "text/html": [
              "<style>#sk-container-id-1 {color: black;background-color: white;}#sk-container-id-1 pre{padding: 0;}#sk-container-id-1 div.sk-toggleable {background-color: white;}#sk-container-id-1 label.sk-toggleable__label {cursor: pointer;display: block;width: 100%;margin-bottom: 0;padding: 0.3em;box-sizing: border-box;text-align: center;}#sk-container-id-1 label.sk-toggleable__label-arrow:before {content: \"▸\";float: left;margin-right: 0.25em;color: #696969;}#sk-container-id-1 label.sk-toggleable__label-arrow:hover:before {color: black;}#sk-container-id-1 div.sk-estimator:hover label.sk-toggleable__label-arrow:before {color: black;}#sk-container-id-1 div.sk-toggleable__content {max-height: 0;max-width: 0;overflow: hidden;text-align: left;background-color: #f0f8ff;}#sk-container-id-1 div.sk-toggleable__content pre {margin: 0.2em;color: black;border-radius: 0.25em;background-color: #f0f8ff;}#sk-container-id-1 input.sk-toggleable__control:checked~div.sk-toggleable__content {max-height: 200px;max-width: 100%;overflow: auto;}#sk-container-id-1 input.sk-toggleable__control:checked~label.sk-toggleable__label-arrow:before {content: \"▾\";}#sk-container-id-1 div.sk-estimator input.sk-toggleable__control:checked~label.sk-toggleable__label {background-color: #d4ebff;}#sk-container-id-1 div.sk-label input.sk-toggleable__control:checked~label.sk-toggleable__label {background-color: #d4ebff;}#sk-container-id-1 input.sk-hidden--visually {border: 0;clip: rect(1px 1px 1px 1px);clip: rect(1px, 1px, 1px, 1px);height: 1px;margin: -1px;overflow: hidden;padding: 0;position: absolute;width: 1px;}#sk-container-id-1 div.sk-estimator {font-family: monospace;background-color: #f0f8ff;border: 1px dotted black;border-radius: 0.25em;box-sizing: border-box;margin-bottom: 0.5em;}#sk-container-id-1 div.sk-estimator:hover {background-color: #d4ebff;}#sk-container-id-1 div.sk-parallel-item::after {content: \"\";width: 100%;border-bottom: 1px solid gray;flex-grow: 1;}#sk-container-id-1 div.sk-label:hover label.sk-toggleable__label {background-color: #d4ebff;}#sk-container-id-1 div.sk-serial::before {content: \"\";position: absolute;border-left: 1px solid gray;box-sizing: border-box;top: 0;bottom: 0;left: 50%;z-index: 0;}#sk-container-id-1 div.sk-serial {display: flex;flex-direction: column;align-items: center;background-color: white;padding-right: 0.2em;padding-left: 0.2em;position: relative;}#sk-container-id-1 div.sk-item {position: relative;z-index: 1;}#sk-container-id-1 div.sk-parallel {display: flex;align-items: stretch;justify-content: center;background-color: white;position: relative;}#sk-container-id-1 div.sk-item::before, #sk-container-id-1 div.sk-parallel-item::before {content: \"\";position: absolute;border-left: 1px solid gray;box-sizing: border-box;top: 0;bottom: 0;left: 50%;z-index: -1;}#sk-container-id-1 div.sk-parallel-item {display: flex;flex-direction: column;z-index: 1;position: relative;background-color: white;}#sk-container-id-1 div.sk-parallel-item:first-child::after {align-self: flex-end;width: 50%;}#sk-container-id-1 div.sk-parallel-item:last-child::after {align-self: flex-start;width: 50%;}#sk-container-id-1 div.sk-parallel-item:only-child::after {width: 0;}#sk-container-id-1 div.sk-dashed-wrapped {border: 1px dashed gray;margin: 0 0.4em 0.5em 0.4em;box-sizing: border-box;padding-bottom: 0.4em;background-color: white;}#sk-container-id-1 div.sk-label label {font-family: monospace;font-weight: bold;display: inline-block;line-height: 1.2em;}#sk-container-id-1 div.sk-label-container {text-align: center;}#sk-container-id-1 div.sk-container {/* jupyter's `normalize.less` sets `[hidden] { display: none; }` but bootstrap.min.css set `[hidden] { display: none !important; }` so we also need the `!important` here to be able to override the default hidden behavior on the sphinx rendered scikit-learn.org. See: https://github.com/scikit-learn/scikit-learn/issues/21755 */display: inline-block !important;position: relative;}#sk-container-id-1 div.sk-text-repr-fallback {display: none;}</style><div id=\"sk-container-id-1\" class=\"sk-top-container\"><div class=\"sk-text-repr-fallback\"><pre>LinearRegression()</pre><b>In a Jupyter environment, please rerun this cell to show the HTML representation or trust the notebook. <br />On GitHub, the HTML representation is unable to render, please try loading this page with nbviewer.org.</b></div><div class=\"sk-container\" hidden><div class=\"sk-item\"><div class=\"sk-estimator sk-toggleable\"><input class=\"sk-toggleable__control sk-hidden--visually\" id=\"sk-estimator-id-1\" type=\"checkbox\" checked><label for=\"sk-estimator-id-1\" class=\"sk-toggleable__label sk-toggleable__label-arrow\">LinearRegression</label><div class=\"sk-toggleable__content\"><pre>LinearRegression()</pre></div></div></div></div></div>"
            ]
          },
          "metadata": {},
          "execution_count": 24
        }
      ]
    },
    {
      "cell_type": "code",
      "source": [
        "y_pred = model.predict(x_test)\n",
        "y_pred = np.array(y_pred)\n",
        "print(y_pred.shape)"
      ],
      "metadata": {
        "colab": {
          "base_uri": "https://localhost:8080/"
        },
        "id": "WGzCAn8StIar",
        "outputId": "6df40cff-f397-447a-e5ba-8d527d69f2f6"
      },
      "execution_count": null,
      "outputs": [
        {
          "output_type": "stream",
          "name": "stdout",
          "text": [
            "(47, 1)\n"
          ]
        }
      ]
    },
    {
      "cell_type": "code",
      "source": [
        "plt.scatter(x_train, y_train, color='yellow')\n",
        "plt.plot(x_test, y_pred, color='red', linewidth=1.2)\n",
        "plt.title(\"Year vs Annual Tempratue\")\n",
        "plt.xlabel(\"Year\")\n",
        "plt.ylabel(\"Annual Temperature\")\n",
        "plt.show()"
      ],
      "metadata": {
        "colab": {
          "base_uri": "https://localhost:8080/",
          "height": 472
        },
        "id": "M2slbPrVt56n",
        "outputId": "67c87658-5e27-45ee-8c11-8f0e3e47431b"
      },
      "execution_count": null,
      "outputs": [
        {
          "output_type": "display_data",
          "data": {
            "text/plain": [
              "<Figure size 640x480 with 1 Axes>"
            ],
            "image/png": "[encoded data removed]"
          },
          "metadata": {}
        }
      ]
    },
    {
      "cell_type": "code",
      "source": [
        "tempdata=temp\n",
        "sns.regplot(data=tempdata,x=x_test,y=y_test,).set(title=\"YEAR VS ANNUAL TEMP\")"
      ],
      "metadata": {
        "colab": {
          "base_uri": "https://localhost:8080/",
          "height": 490
        },
        "id": "S41CrhxZuoZL",
        "outputId": "ada94b1b-d38e-412a-899a-825f9f071597"
      },
      "execution_count": null,
      "outputs": [
        {
          "output_type": "execute_result",
          "data": {
            "text/plain": [
              "[Text(0.5, 1.0, 'YEAR VS ANNUAL TEMP')]"
            ]
          },
          "metadata": {},
          "execution_count": 37
        },
        {
          "output_type": "display_data",
          "data": {
            "text/plain": [
              "<Figure size 640x480 with 1 Axes>"
            ],
            "image/png": "[encoded data removed]"
          },
          "metadata": {}
        }
      ]
    },
    {
      "cell_type": "code",
      "source": [
        "print(\"coefficient:\", model.coef_)\n",
        "print(\"intercept:\",model.intercept_)"
      ],
      "metadata": {
        "colab": {
          "base_uri": "https://localhost:8080/"
        },
        "id": "fgaxYxKyxfNX",
        "outputId": "cb13b590-3281-430c-d9b6-049a96bf28ef"
      },
      "execution_count": null,
      "outputs": [
        {
          "output_type": "stream",
          "name": "stdout",
          "text": [
            "coefficient: [[0.01190094]]\n",
            "intercept: [5.84557702]\n"
          ]
        }
      ]
    },
    {
      "cell_type": "code",
      "source": [
        "print(\"Mean Square Error:  \",metrics.mean_squared_error(y_test,y_pred))\n",
        "print(\"Mean Absolute Error: \", metrics.mean_absolute_error(y_test,y_pred))\n",
        "print(\"R-Sqaure : \", metrics.r2_score(y_test,y_pred))"
      ],
      "metadata": {
        "colab": {
          "base_uri": "https://localhost:8080/"
        },
        "id": "ApKprG-zwNuo",
        "outputId": "ef44b973-1eb7-4297-d080-4a2a8efdb65c"
      },
      "execution_count": null,
      "outputs": [
        {
          "output_type": "stream",
          "name": "stdout",
          "text": [
            "Mean Square Error:   0.12739407224025404\n",
            "Mean Absolute Error:  0.2467987767427756\n",
            "R-Sqaure :  0.6672373588443201\n"
          ]
        }
      ]
    }
  ]
}